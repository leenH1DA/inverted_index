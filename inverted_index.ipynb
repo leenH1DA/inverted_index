{
 "cells": [
  {
   "cell_type": "code",
   "execution_count": 187,
   "metadata": {},
   "outputs": [],
   "source": [
    "class InvertedIndex:\n",
    "\n",
    "    def __init__(self, doc):\n",
    "        self.doc = doc\n",
    "        self.lines = 1   \n",
    "        self.arr = []\n",
    "\n",
    "    def Display_docs(self):\n",
    "        return self.doc\n",
    "\n",
    "    def Number_of_docs(self):\n",
    "        for word in self.doc:\n",
    "            if word == '\\n':\n",
    "                self.lines += 1\n",
    "        return self.lines\n",
    "\n",
    "    def Split_docs(self):\n",
    "        for i in range(self.lines):\n",
    "            self.arr.append(self.doc.split('\\n')[i])\n",
    "        return self.arr\n",
    "\n",
    "    def Tokenization(self):\n",
    "        self.doc = self.doc.lower()\n",
    "        tokens = self.doc.split()\n",
    "        return tokens\n",
    "\n",
    "    def Stopping(self):\n",
    "        stop_words = open('StopWords.txt', 'r').read()\n",
    "        stop_words = stop_words.split()\n",
    "\n",
    "        NewList = []\n",
    "        # Remove special characters\n",
    "        tokens = self.Tokenization()\n",
    "        for doc in tokens:\n",
    "            Newdoc = \"\".join(ch for ch in doc if ch.isalnum())\n",
    "            NewList.append(Newdoc)\n",
    "\n",
    "        # Remove stopring words\n",
    "        after_stopping = [token for token in NewList if token not in stop_words]\n",
    "\n",
    "        return after_stopping\n",
    "\n",
    "    def Inverted_Index(self):\n",
    "        Inverted_index = {}\n",
    "        after_stopping = self.Stopping()\n",
    "        for token in after_stopping:\n",
    "            for i in range(self.lines):\n",
    "                if token in self.arr[i]:\n",
    "                    if token in Inverted_index:\n",
    "                        Inverted_index[token].add(i+1)\n",
    "                    else:\n",
    "                        Inverted_index[token] = {i+1}\n",
    "\n",
    "        return Inverted_index\n",
    "\n",
    "    def Indexer(self):\n",
    "        indexer = {}\n",
    "        after_stopping = self.Stopping()\n",
    "        for token in after_stopping:\n",
    "            for i in range(self.lines):\n",
    "                if token in self.arr[i]:\n",
    "                    indexer[token] = i+1\n",
    "\n",
    "        return indexer\n",
    "\n",
    "    def Term_squences(self):\n",
    "        indexer = self.Indexer()\n",
    "        return sorted(indexer.items(), key=lambda x: x[1])\n",
    "\n",
    "    def Sorting_Alphabetically(self):\n",
    "        indexer = self.Indexer()\n",
    "        return sorted(indexer.items(), key=lambda x: x[0])\n",
    "\n",
    "    def Term_Frequency(self):\n",
    "        Term_frequancy = {}\n",
    "        Inverted_index = self.Inverted_Index()\n",
    "        for term in Inverted_index:\n",
    "            Term_frequancy[term] = term\n",
    "            Term_frequancy[term] = len(Inverted_index[term])\n",
    "\n",
    "        return Term_frequancy\n"
   ]
  },
  {
   "cell_type": "code",
   "execution_count": 188,
   "metadata": {},
   "outputs": [
    {
     "data": {
      "text/plain": [
       "'There are many types of sentences, all with different structures and complexities.\\nSimply type the word into the sentence generator and weâ€™ll do the rest.\\nThe train does not leave at morning.\\nWhen someone gives a command (the imperative), they usually do not use a subject\\nActually, it is not easy to define a sentence. Grammarians do not all agree on what is or is not a sentence'"
      ]
     },
     "execution_count": 188,
     "metadata": {},
     "output_type": "execute_result"
    }
   ],
   "source": [
    "documents = open('Documents.txt').read()\n",
    "\n",
    "InvIndex = InvertedIndex(documents)\n",
    "\n",
    "InvIndex.Display_docs()\n",
    "\n"
   ]
  },
  {
   "cell_type": "code",
   "execution_count": 189,
   "metadata": {},
   "outputs": [
    {
     "data": {
      "text/plain": [
       "5"
      ]
     },
     "execution_count": 189,
     "metadata": {},
     "output_type": "execute_result"
    }
   ],
   "source": [
    "InvIndex.Number_of_docs()"
   ]
  },
  {
   "cell_type": "code",
   "execution_count": 190,
   "metadata": {},
   "outputs": [
    {
     "data": {
      "text/plain": [
       "['There are many types of sentences, all with different structures and complexities.',\n",
       " 'Simply type the word into the sentence generator and weâ€™ll do the rest.',\n",
       " 'The train does not leave at morning.',\n",
       " 'When someone gives a command (the imperative), they usually do not use a subject',\n",
       " 'Actually, it is not easy to define a sentence. Grammarians do not all agree on what is or is not a sentence']"
      ]
     },
     "execution_count": 190,
     "metadata": {},
     "output_type": "execute_result"
    }
   ],
   "source": [
    "InvIndex.Split_docs()\n"
   ]
  },
  {
   "cell_type": "code",
   "execution_count": 191,
   "metadata": {},
   "outputs": [
    {
     "data": {
      "text/plain": [
       "['there',\n",
       " 'are',\n",
       " 'many',\n",
       " 'types',\n",
       " 'of',\n",
       " 'sentences,',\n",
       " 'all',\n",
       " 'with',\n",
       " 'different',\n",
       " 'structures',\n",
       " 'and',\n",
       " 'complexities.',\n",
       " 'simply',\n",
       " 'type',\n",
       " 'the',\n",
       " 'word',\n",
       " 'into',\n",
       " 'the',\n",
       " 'sentence',\n",
       " 'generator',\n",
       " 'and',\n",
       " 'weâ€™ll',\n",
       " 'do',\n",
       " 'the',\n",
       " 'rest.',\n",
       " 'the',\n",
       " 'train',\n",
       " 'does',\n",
       " 'not',\n",
       " 'leave',\n",
       " 'at',\n",
       " 'morning.',\n",
       " 'when',\n",
       " 'someone',\n",
       " 'gives',\n",
       " 'a',\n",
       " 'command',\n",
       " '(the',\n",
       " 'imperative),',\n",
       " 'they',\n",
       " 'usually',\n",
       " 'do',\n",
       " 'not',\n",
       " 'use',\n",
       " 'a',\n",
       " 'subject',\n",
       " 'actually,',\n",
       " 'it',\n",
       " 'is',\n",
       " 'not',\n",
       " 'easy',\n",
       " 'to',\n",
       " 'define',\n",
       " 'a',\n",
       " 'sentence.',\n",
       " 'grammarians',\n",
       " 'do',\n",
       " 'not',\n",
       " 'all',\n",
       " 'agree',\n",
       " 'on',\n",
       " 'what',\n",
       " 'is',\n",
       " 'or',\n",
       " 'is',\n",
       " 'not',\n",
       " 'a',\n",
       " 'sentence']"
      ]
     },
     "execution_count": 191,
     "metadata": {},
     "output_type": "execute_result"
    }
   ],
   "source": [
    "InvIndex.Tokenization()"
   ]
  },
  {
   "cell_type": "code",
   "execution_count": 192,
   "metadata": {},
   "outputs": [
    {
     "data": {
      "text/plain": [
       "['types',\n",
       " 'sentences',\n",
       " 'different',\n",
       " 'structures',\n",
       " 'complexities',\n",
       " 'simply',\n",
       " 'type',\n",
       " 'word',\n",
       " 'sentence',\n",
       " 'generator',\n",
       " 'weâll',\n",
       " 'rest',\n",
       " 'train',\n",
       " 'does',\n",
       " 'leave',\n",
       " 'morning',\n",
       " 'gives',\n",
       " 'command',\n",
       " 'imperative',\n",
       " 'usually',\n",
       " 'use',\n",
       " 'subject',\n",
       " 'actually',\n",
       " 'easy',\n",
       " 'define',\n",
       " 'sentence',\n",
       " 'grammarians',\n",
       " 'agree',\n",
       " 'sentence']"
      ]
     },
     "execution_count": 192,
     "metadata": {},
     "output_type": "execute_result"
    }
   ],
   "source": [
    "InvIndex.Stopping()"
   ]
  },
  {
   "cell_type": "code",
   "execution_count": 193,
   "metadata": {},
   "outputs": [
    {
     "data": {
      "text/plain": [
       "{'types': {1},\n",
       " 'sentences': {1},\n",
       " 'different': {1},\n",
       " 'structures': {1},\n",
       " 'complexities': {1},\n",
       " 'type': {1, 2},\n",
       " 'word': {2},\n",
       " 'sentence': {1, 2, 5},\n",
       " 'generator': {2},\n",
       " 'rest': {2},\n",
       " 'train': {3},\n",
       " 'does': {3},\n",
       " 'leave': {3},\n",
       " 'morning': {3},\n",
       " 'gives': {4},\n",
       " 'command': {4},\n",
       " 'imperative': {4},\n",
       " 'usually': {4},\n",
       " 'use': {4},\n",
       " 'subject': {4},\n",
       " 'easy': {5},\n",
       " 'define': {5},\n",
       " 'agree': {5}}"
      ]
     },
     "execution_count": 193,
     "metadata": {},
     "output_type": "execute_result"
    }
   ],
   "source": [
    "InvIndex.Inverted_Index()\n"
   ]
  },
  {
   "cell_type": "code",
   "execution_count": 194,
   "metadata": {},
   "outputs": [
    {
     "data": {
      "text/plain": [
       "{'types': 1,\n",
       " 'sentences': 1,\n",
       " 'different': 1,\n",
       " 'structures': 1,\n",
       " 'complexities': 1,\n",
       " 'type': 2,\n",
       " 'word': 2,\n",
       " 'sentence': 5,\n",
       " 'generator': 2,\n",
       " 'rest': 2,\n",
       " 'train': 3,\n",
       " 'does': 3,\n",
       " 'leave': 3,\n",
       " 'morning': 3,\n",
       " 'gives': 4,\n",
       " 'command': 4,\n",
       " 'imperative': 4,\n",
       " 'usually': 4,\n",
       " 'use': 4,\n",
       " 'subject': 4,\n",
       " 'easy': 5,\n",
       " 'define': 5,\n",
       " 'agree': 5}"
      ]
     },
     "execution_count": 194,
     "metadata": {},
     "output_type": "execute_result"
    }
   ],
   "source": [
    "InvIndex.Indexer()"
   ]
  },
  {
   "cell_type": "code",
   "execution_count": 195,
   "metadata": {},
   "outputs": [
    {
     "data": {
      "text/plain": [
       "[('types', 1),\n",
       " ('sentences', 1),\n",
       " ('different', 1),\n",
       " ('structures', 1),\n",
       " ('complexities', 1),\n",
       " ('type', 2),\n",
       " ('word', 2),\n",
       " ('generator', 2),\n",
       " ('rest', 2),\n",
       " ('train', 3),\n",
       " ('does', 3),\n",
       " ('leave', 3),\n",
       " ('morning', 3),\n",
       " ('gives', 4),\n",
       " ('command', 4),\n",
       " ('imperative', 4),\n",
       " ('usually', 4),\n",
       " ('use', 4),\n",
       " ('subject', 4),\n",
       " ('sentence', 5),\n",
       " ('easy', 5),\n",
       " ('define', 5),\n",
       " ('agree', 5)]"
      ]
     },
     "execution_count": 195,
     "metadata": {},
     "output_type": "execute_result"
    }
   ],
   "source": [
    "InvIndex.Term_squences()"
   ]
  },
  {
   "cell_type": "code",
   "execution_count": 196,
   "metadata": {},
   "outputs": [
    {
     "data": {
      "text/plain": [
       "[('agree', 5),\n",
       " ('command', 4),\n",
       " ('complexities', 1),\n",
       " ('define', 5),\n",
       " ('different', 1),\n",
       " ('does', 3),\n",
       " ('easy', 5),\n",
       " ('generator', 2),\n",
       " ('gives', 4),\n",
       " ('imperative', 4),\n",
       " ('leave', 3),\n",
       " ('morning', 3),\n",
       " ('rest', 2),\n",
       " ('sentence', 5),\n",
       " ('sentences', 1),\n",
       " ('structures', 1),\n",
       " ('subject', 4),\n",
       " ('train', 3),\n",
       " ('type', 2),\n",
       " ('types', 1),\n",
       " ('use', 4),\n",
       " ('usually', 4),\n",
       " ('word', 2)]"
      ]
     },
     "execution_count": 196,
     "metadata": {},
     "output_type": "execute_result"
    }
   ],
   "source": [
    "InvIndex.Sorting_Alphabetically()"
   ]
  },
  {
   "cell_type": "code",
   "execution_count": 197,
   "metadata": {},
   "outputs": [
    {
     "data": {
      "text/plain": [
       "{'types': 1,\n",
       " 'sentences': 1,\n",
       " 'different': 1,\n",
       " 'structures': 1,\n",
       " 'complexities': 1,\n",
       " 'type': 2,\n",
       " 'word': 1,\n",
       " 'sentence': 3,\n",
       " 'generator': 1,\n",
       " 'rest': 1,\n",
       " 'train': 1,\n",
       " 'does': 1,\n",
       " 'leave': 1,\n",
       " 'morning': 1,\n",
       " 'gives': 1,\n",
       " 'command': 1,\n",
       " 'imperative': 1,\n",
       " 'usually': 1,\n",
       " 'use': 1,\n",
       " 'subject': 1,\n",
       " 'easy': 1,\n",
       " 'define': 1,\n",
       " 'agree': 1}"
      ]
     },
     "execution_count": 197,
     "metadata": {},
     "output_type": "execute_result"
    }
   ],
   "source": [
    "InvIndex.Term_Frequency()"
   ]
  }
 ],
 "metadata": {
  "kernelspec": {
   "display_name": "Python 3",
   "language": "python",
   "name": "python3"
  },
  "language_info": {
   "codemirror_mode": {
    "name": "ipython",
    "version": 3
   },
   "file_extension": ".py",
   "mimetype": "text/x-python",
   "name": "python",
   "nbconvert_exporter": "python",
   "pygments_lexer": "ipython3",
   "version": "3.11.2"
  },
  "orig_nbformat": 4,
  "vscode": {
   "interpreter": {
    "hash": "c261aea317cc0286b3b3261fbba9abdec21eaa57589985bb7a274bf54d6cc0a7"
   }
  }
 },
 "nbformat": 4,
 "nbformat_minor": 2
}
